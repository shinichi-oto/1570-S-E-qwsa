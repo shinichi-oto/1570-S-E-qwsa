{
 "cells": [
  {
   "cell_type": "code",
   "execution_count": null,
   "id": "984c392a",
   "metadata": {},
   "outputs": [],
   "source": [
    "import panel as pn\n",
    "import numpy as np\n",
    "import pandas as pd\n",
    "import holoviews as hv\n",
    "\n",
    "import itertools\n",
    "from functools import partial\n",
    "\n",
    "import time\n",
    "from panel.widgets import Tqdm\n",
    "\n",
    "from tornado import gen\n",
    "from tornado.ioloop import PeriodicCallback\n",
    "\n",
    "from folium.plugins import HeatMap, HeatMapWithTime, MarkerCluster\n",
    "\n",
    "from bokeh import models, plotting, io\n",
    "from bokeh.layouts import column\n",
    "from bokeh.plotting import figure, show\n",
    "from bokeh.models import ColumnDataSource, RangeTool, BoxAnnotation\n",
    "\n",
    "from holoviews import opts\n",
    "from holoviews.streams import Pipe, Buffer\n",
    "from holoviews.operation.timeseries import rolling, rolling_outlier_std\n",
    "\n",
    "import warnings\n",
    "warnings.filterwarnings(\"ignore\")\n",
    "\n",
    "hv.extension('bokeh')\n",
    "\n",
    "%matplotlib inline"
   ]
  },
  {
   "cell_type": "markdown",
   "id": "04cd7ca1",
   "metadata": {},
   "source": [
    "<p style= \"background-color:#000000;font-family:Georgia;color:#FFFFFF;font-size:500%;text-align:center;border-radius:10px 10px;border-style:solid;border-width:3px;border-color:#000000;\"><b>Streaming　Plot</b></p>\n",
    "\n",
    "- Data Streaming Visualization\n",
    "- Try to run it in your own environment. Since it is streaming, it will not run on Kaggle.\n",
    "- データストリーミングVisualization\n",
    "- 自身の環境で実行してみてください。ストリーミングなのでKaggle上では動作しません。"
   ]
  },
  {
   "cell_type": "code",
   "execution_count": null,
   "id": "f7173011",
   "metadata": {},
   "outputs": [],
   "source": [
    "hv.renderer('bokeh').theme= 'dark_minimal'"
   ]
  },
  {
   "cell_type": "code",
   "execution_count": null,
   "id": "5463cff6",
   "metadata": {},
   "outputs": [],
   "source": [
    "train = pd.read_csv('D:\\JupyterNotebook\\WorldWarmingDataset\\GlobalLandTemperaturesByCountry.csv')"
   ]
  },
  {
   "cell_type": "code",
   "execution_count": null,
   "id": "acd698d0",
   "metadata": {},
   "outputs": [],
   "source": [
    "train.isnull().sum()"
   ]
  },
  {
   "cell_type": "code",
   "execution_count": null,
   "id": "23374fc9",
   "metadata": {},
   "outputs": [],
   "source": [
    "country_list = ['Canada', 'Brazil', 'Congo', 'India', 'United Kingdom', 'United States', 'Swaziland', 'Italy', 'Europe', 'France', 'Japan', 'Russia']\n",
    "train['Dates'] = pd.to_datetime(train['dt'])\n",
    "train['Year'] = train['Dates'].dt.year\n",
    "train['Month'] = train['Dates'].dt.month\n",
    "\n",
    "train_country_isin = train[train['Country'].isin(country_list)] # ~ not in\n",
    "train_copy = train_country_isin.copy()\n",
    "train_copy.fillna(method='ffill', inplace=True)"
   ]
  },
  {
   "cell_type": "code",
   "execution_count": null,
   "id": "34bff966",
   "metadata": {},
   "outputs": [],
   "source": [
    "train_copy.isnull().sum()"
   ]
  },
  {
   "cell_type": "markdown",
   "id": "7b7a5141",
   "metadata": {},
   "source": [
    "------\n",
    "------"
   ]
  },
  {
   "cell_type": "code",
   "execution_count": null,
   "id": "691b3771",
   "metadata": {},
   "outputs": [],
   "source": [
    "japan_data = train_copy.loc[train_copy['Country'] == 'Japan']"
   ]
  },
  {
   "cell_type": "code",
   "execution_count": null,
   "id": "8251f6c2",
   "metadata": {},
   "outputs": [],
   "source": [
    "japan_year_avg = pd.pivot_table(japan_data, values='AverageTemperature', index='Year', aggfunc='mean')\n",
    "japan_year_avg['10_year_MA'] = japan_year_avg['AverageTemperature'].rolling(10).mean()"
   ]
  },
  {
   "cell_type": "markdown",
   "id": "341f9e81",
   "metadata": {},
   "source": [
    "-----\n",
    "# Stream Data\n",
    "-----"
   ]
  },
  {
   "cell_type": "code",
   "execution_count": null,
   "id": "db824502",
   "metadata": {},
   "outputs": [],
   "source": [
    "japan_replace_data = japan_year_avg.reset_index().loc[:, ['Year', 'AverageTemperature']]"
   ]
  },
  {
   "cell_type": "code",
   "execution_count": null,
   "id": "8e8b0fc6",
   "metadata": {},
   "outputs": [],
   "source": [
    "default_frame = pd.DataFrame({'Year': [], 'AverageTemperature': [], 'count': []}, columns=['Year', 'AverageTemperature', 'count'])\n",
    "count = 0\n",
    "df_buffer = Buffer(default_frame, length=100, index=False)"
   ]
  },
  {
   "cell_type": "code",
   "execution_count": null,
   "id": "2b155d95",
   "metadata": {},
   "outputs": [],
   "source": [
    "def add_plot():\n",
    "    while True:\n",
    "        x, y, count = 0, 0, 0\n",
    "        for i in range(len(japan_replace_data.reset_index()['Year'])):\n",
    "            x = japan_replace_data.reset_index()['Year'][i] # += \n",
    "            y = japan_replace_data.reset_index()['AverageTemperature'][i] # += \n",
    "            count += 1\n",
    "            df_data = pd.DataFrame([(x, y, count)], columns=['Year', 'AverageTemperature', 'count'])\n",
    "            if len(japan_replace_data.reset_index()['Year']) != count:\n",
    "                yield df_data\n",
    "            else:\n",
    "                df_buffer.clear()\n",
    "                del df_data, count\n",
    "\n",
    "@gen.coroutine\n",
    "def f():\n",
    "    df_buffer.send(next(add_p))"
   ]
  },
  {
   "cell_type": "code",
   "execution_count": null,
   "id": "3bf3fa18",
   "metadata": {},
   "outputs": [],
   "source": [
    "add_p = add_plot()"
   ]
  },
  {
   "cell_type": "code",
   "execution_count": null,
   "id": "e6b3b913",
   "metadata": {},
   "outputs": [],
   "source": [
    "asdasd"
   ]
  },
  {
   "cell_type": "code",
   "execution_count": null,
   "id": "a363ba8f",
   "metadata": {},
   "outputs": [],
   "source": [
    "cb_d = PeriodicCallback(f, 100)\n",
    "cb_d.start()\n",
    "\n",
    "\n",
    "point_plt = hv.DynamicMap(hv.Points, streams=[df_buffer])\n",
    "\n",
    "line_plt = hv.DynamicMap(hv.Curve, streams=[df_buffer]).opts(padding=0.1, width=600, show_grid=True) # one + two : line & point\n",
    "\n",
    "table_plt = hv.DynamicMap(hv.Table, streams=[df_buffer])\n",
    "\n",
    "hist_dmap = hv.DynamicMap(hv.Dataset, streams=[df_buffer])\n",
    "hist_plt = hv.operation.histogram(hist_dmap, dimension='AverageTemperature')\n",
    "\n",
    "box_plt = hv.DynamicMap(partial(hv.BoxWhisker, kdims=[], vdims='AverageTemperature'), streams=[df_buffer])\n",
    "\n",
    "\n",
    "#table_plt + point_plt * line_plt"
   ]
  },
  {
   "cell_type": "code",
   "execution_count": null,
   "id": "f55d8280",
   "metadata": {},
   "outputs": [],
   "source": [
    "gspec = pn.GridSpec(width=1200, height=650)\n",
    "\n",
    "gspec[0,   0  ] = table_plt\n",
    "gspec[0,   1:5] = line_plt\n",
    "gspec[1,   2:3] = point_plt\n",
    "gspec[1,   3:5] = box_plt\n",
    "gspec[1,   0:2] = hist_plt\n",
    "\n",
    "gspec"
   ]
  },
  {
   "cell_type": "code",
   "execution_count": null,
   "id": "b397fb70",
   "metadata": {},
   "outputs": [],
   "source": [
    "cb_d.stop()"
   ]
  },
  {
   "cell_type": "code",
   "execution_count": null,
   "id": "7ab4003c",
   "metadata": {},
   "outputs": [],
   "source": []
  }
 ],
 "metadata": {
  "kernelspec": {
   "display_name": "Machine_Learning",
   "language": "python",
   "name": "machine_learning"
  },
  "language_info": {
   "codemirror_mode": {
    "name": "ipython",
    "version": 3
   },
   "file_extension": ".py",
   "mimetype": "text/x-python",
   "name": "python",
   "nbconvert_exporter": "python",
   "pygments_lexer": "ipython3",
   "version": "3.8.8"
  }
 },
 "nbformat": 4,
 "nbformat_minor": 5
}
